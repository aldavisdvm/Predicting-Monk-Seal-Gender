{
 "cells": [
  {
   "cell_type": "markdown",
   "metadata": {},
   "source": [
    "# PREDICTING GENDER OF MONK SEALS "
   ]
  },
  {
   "cell_type": "markdown",
   "metadata": {},
   "source": [
    "Predicting a categorical target variable (gender) using continuous feature variables (blood chemistry values), then compare\n",
    "two models: one with mass as a feature and one without mass"
   ]
  },
  {
   "cell_type": "markdown",
   "metadata": {},
   "source": [
    "## Import Packages and Read In Data"
   ]
  },
  {
   "cell_type": "code",
   "execution_count": 1,
   "metadata": {},
   "outputs": [
    {
     "name": "stderr",
     "output_type": "stream",
     "text": [
      "C:\\Users\\alica\\anaconda3\\lib\\site-packages\\tpot\\builtins\\__init__.py:36: UserWarning: Warning: optional dependency `torch` is not available. - skipping import of NN models.\n",
      "  warnings.warn(\"Warning: optional dependency `torch` is not available. - skipping import of NN models.\")\n"
     ]
    }
   ],
   "source": [
    "# Import packages\n",
    "import pandas as pd\n",
    "import matplotlib.pyplot as plt\n",
    "import numpy as np\n",
    "import seaborn as sns\n",
    "\n",
    "from tpot import TPOTClassifier\n",
    "from sklearn import preprocessing\n",
    "from sklearn.preprocessing import StandardScaler\n",
    "from sklearn.model_selection import train_test_split, GridSearchCV\n",
    "from sklearn.metrics import roc_auc_score\n",
    "from sklearn.metrics import accuracy_score\n",
    "from sklearn.metrics import confusion_matrix\n",
    "\n",
    "from sklearn.ensemble import RandomForestClassifier\n",
    "from sklearn.neighbors import KNeighborsClassifier\n",
    "from sklearn.linear_model import LogisticRegression"
   ]
  },
  {
   "cell_type": "code",
   "execution_count": 2,
   "metadata": {},
   "outputs": [],
   "source": [
    "seal_df = pd.read_csv('MonkSeal.csv')"
   ]
  },
  {
   "cell_type": "markdown",
   "metadata": {},
   "source": [
    "## Explore Data"
   ]
  },
  {
   "cell_type": "code",
   "execution_count": 3,
   "metadata": {
    "scrolled": true
   },
   "outputs": [
    {
     "name": "stdout",
     "output_type": "stream",
     "text": [
      "    UID  ID_Recap stock               site  DOY       Date  month  day  year  \\\n",
      "0  5151       NaN  west  AGATTU/CAPE SABAK  175  6/24/1998      6   24  1998   \n",
      "1  5155       NaN  west  AGATTU/CAPE SABAK  175  6/24/1998      6   24  1998   \n",
      "2  5158       NaN  west  AGATTU/CAPE SABAK  175  6/24/1998      6   24  1998   \n",
      "3  5170       NaN  west  AGATTU/CAPE SABAK  175  6/24/1998      6   24  1998   \n",
      "4  5173       NaN  west  AGATTU/CAPE SABAK  175  6/24/1998      6   24  1998   \n",
      "\n",
      "  adjsex  ... ABS_Eos  ABS_Bands  ABS_Polys  ABS_Lymphs  ABS_Monos  Adj_Tot  \\\n",
      "0      M  ...   696.0        0.0     5220.0      2610.0       87.0   8700.0   \n",
      "1      M  ...     NaN        NaN        NaN         NaN        NaN      NaN   \n",
      "2      F  ...   192.0        0.0     6912.0      2304.0      192.0   9600.0   \n",
      "3      M  ...     NaN        NaN        NaN         NaN        NaN      NaN   \n",
      "4      M  ...     NaN        NaN        NaN         NaN        NaN      NaN   \n",
      "\n",
      "   lipemic  NRBC            Phoenix_Comments  hemolysis  \n",
      "0      NaN   0.0                         NaN        NaN  \n",
      "1      NaN   NaN                         NaN        NaN  \n",
      "2      NaN   0.0  moderate stimulated lymphs        NaN  \n",
      "3      NaN   NaN                         NaN        NaN  \n",
      "4      NaN   NaN  moderate stimulated lymphs        NaN  \n",
      "\n",
      "[5 rows x 33 columns]\n",
      "          ID_Recap          DOY        month          day         year  \\\n",
      "count     3.000000  1015.000000  1015.000000  1015.000000  1015.000000   \n",
      "mean   4003.333333   180.177340     6.415764    16.421675  2003.672906   \n",
      "std       4.509250     4.489752     0.493096    11.188695     3.688754   \n",
      "min    3999.000000   172.000000     6.000000     1.000000  1998.000000   \n",
      "25%    4001.000000   176.000000     6.000000     4.000000  2001.000000   \n",
      "50%    4003.000000   180.000000     6.000000    23.000000  2003.000000   \n",
      "75%    4005.500000   184.000000     7.000000    26.000000  2007.000000   \n",
      "max    4008.000000   188.000000     7.000000    30.000000  2011.000000   \n",
      "\n",
      "             mass     Ave_Hct         RBC         WBC         MCV  ...  \\\n",
      "count  996.000000  854.000000  748.000000  870.000000  602.000000  ...   \n",
      "mean    30.660643   39.058899    4.514706   14.697356  103.900332  ...   \n",
      "std      5.427047    4.295008    2.158374    6.590847   37.020051  ...   \n",
      "min     15.800000   18.500000    1.800000    1.200000    4.100000  ...   \n",
      "25%     26.600000   36.500000    3.500000   10.800000   91.200000  ...   \n",
      "50%     30.200000   39.000000    4.000000   14.300000  101.650000  ...   \n",
      "75%     34.200000   41.500000    4.700000   17.800000  112.350000  ...   \n",
      "max     49.400000   55.000000   22.700000  105.500000  639.400000  ...   \n",
      "\n",
      "             MCHC  Phoenix_ID_Diff    ABS_Baso      ABS_Eos   ABS_Bands  \\\n",
      "count  214.000000     4.430000e+02  897.000000   897.000000  897.000000   \n",
      "mean    36.789252     3.841909e+08   19.983278   523.231884    6.604236   \n",
      "std      5.345572     4.815220e+08   64.081027   639.045397   42.093361   \n",
      "min      0.000000     2.112113e+07    0.000000     0.000000    0.000000   \n",
      "25%     34.700000     4.111447e+07    0.000000   169.000000    0.000000   \n",
      "50%     36.400000     4.120523e+07    0.000000   363.000000    0.000000   \n",
      "75%     38.575000     9.090304e+08    0.000000   655.000000    0.000000   \n",
      "max     56.600000     1.203070e+09  909.000000  9565.000000  605.000000   \n",
      "\n",
      "          ABS_Polys    ABS_Lymphs    ABS_Monos       Adj_Tot        NRBC  \n",
      "count    897.000000    897.000000   897.000000    897.000000  441.000000  \n",
      "mean    8680.245262   3728.317726   750.017837  13708.345596    1.274376  \n",
      "std     4608.214264   2485.388561   597.723490   6635.774848    3.643737  \n",
      "min       68.000000    474.000000     0.000000   2100.000000    0.000000  \n",
      "25%     5760.000000   2247.000000   364.000000   9500.000000    0.000000  \n",
      "50%     7728.000000   3168.000000   610.000000  12000.000000    0.000000  \n",
      "75%    10368.000000   4410.000000   970.000000  16200.000000    1.000000  \n",
      "max    39652.000000  21774.000000  4797.000000  57300.000000   59.000000  \n",
      "\n",
      "[8 rows x 22 columns]\n",
      "<class 'pandas.core.frame.DataFrame'>\n",
      "RangeIndex: 1015 entries, 0 to 1014\n",
      "Data columns (total 33 columns):\n",
      " #   Column            Non-Null Count  Dtype  \n",
      "---  ------            --------------  -----  \n",
      " 0   UID               1015 non-null   object \n",
      " 1   ID_Recap          3 non-null      float64\n",
      " 2   stock             1015 non-null   object \n",
      " 3   site              1015 non-null   object \n",
      " 4   DOY               1015 non-null   int64  \n",
      " 5   Date              1015 non-null   object \n",
      " 6   month             1015 non-null   int64  \n",
      " 7   day               1015 non-null   int64  \n",
      " 8   year              1015 non-null   int64  \n",
      " 9   adjsex            1015 non-null   object \n",
      " 10  age               1015 non-null   object \n",
      " 11  mass              996 non-null    float64\n",
      " 12  Ave_Hct           854 non-null    float64\n",
      " 13  RBC               748 non-null    float64\n",
      " 14  WBC               870 non-null    float64\n",
      " 15  MCV               602 non-null    float64\n",
      " 16  Hb                256 non-null    float64\n",
      " 17  MCH               11 non-null     float64\n",
      " 18  MCHC              214 non-null    float64\n",
      " 19  Phoenix_ID_Diff   443 non-null    float64\n",
      " 20  Plates_comments   842 non-null    object \n",
      " 21  Plates_clumped    106 non-null    object \n",
      " 22  ABS_Baso          897 non-null    float64\n",
      " 23  ABS_Eos           897 non-null    float64\n",
      " 24  ABS_Bands         897 non-null    float64\n",
      " 25  ABS_Polys         897 non-null    float64\n",
      " 26  ABS_Lymphs        897 non-null    float64\n",
      " 27  ABS_Monos         897 non-null    float64\n",
      " 28  Adj_Tot           897 non-null    float64\n",
      " 29  lipemic           139 non-null    object \n",
      " 30  NRBC              441 non-null    float64\n",
      " 31  Phoenix_Comments  416 non-null    object \n",
      " 32  hemolysis         22 non-null     object \n",
      "dtypes: float64(18), int64(4), object(11)\n",
      "memory usage: 261.8+ KB\n",
      "None\n",
      "There are 1015 rows and 33 columns\n"
     ]
    }
   ],
   "source": [
    "print(seal_df.head())\n",
    "print(seal_df.describe())\n",
    "print(seal_df.info())\n",
    "nRow, nCol = seal_df.shape\n",
    "print(f'There are {nRow} rows and {nCol} columns')"
   ]
  },
  {
   "cell_type": "markdown",
   "metadata": {},
   "source": [
    "## Removing Unneccessary Columns"
   ]
  },
  {
   "cell_type": "code",
   "execution_count": 4,
   "metadata": {},
   "outputs": [
    {
     "name": "stdout",
     "output_type": "stream",
     "text": [
      "<class 'pandas.core.frame.DataFrame'>\n",
      "RangeIndex: 1015 entries, 0 to 1014\n",
      "Data columns (total 16 columns):\n",
      " #   Column      Non-Null Count  Dtype  \n",
      "---  ------      --------------  -----  \n",
      " 0   adjsex      1015 non-null   object \n",
      " 1   mass        996 non-null    float64\n",
      " 2   Ave_Hct     854 non-null    float64\n",
      " 3   RBC         748 non-null    float64\n",
      " 4   WBC         870 non-null    float64\n",
      " 5   MCV         602 non-null    float64\n",
      " 6   Hb          256 non-null    float64\n",
      " 7   MCH         11 non-null     float64\n",
      " 8   MCHC        214 non-null    float64\n",
      " 9   ABS_Baso    897 non-null    float64\n",
      " 10  ABS_Eos     897 non-null    float64\n",
      " 11  ABS_Bands   897 non-null    float64\n",
      " 12  ABS_Polys   897 non-null    float64\n",
      " 13  ABS_Lymphs  897 non-null    float64\n",
      " 14  ABS_Monos   897 non-null    float64\n",
      " 15  NRBC        441 non-null    float64\n",
      "dtypes: float64(15), object(1)\n",
      "memory usage: 127.0+ KB\n",
      "None\n"
     ]
    }
   ],
   "source": [
    "# Delete columns\n",
    "seal_df.drop(['UID', 'ID_Recap', 'stock', 'site','DOY', 'Date', 'month', 'day', 'year', 'age',\n",
    "              'Phoenix_ID_Diff', 'Plates_comments', 'Plates_clumped', 'lipemic', 'Phoenix_Comments',\n",
    "              'hemolysis', 'Adj_Tot'], axis=1, inplace=True)\n",
    "print(seal_df.info())"
   ]
  },
  {
   "cell_type": "markdown",
   "metadata": {},
   "source": [
    "## Encode and Divide Data Into Features and Target"
   ]
  },
  {
   "cell_type": "code",
   "execution_count": 5,
   "metadata": {},
   "outputs": [
    {
     "name": "stdout",
     "output_type": "stream",
     "text": [
      "\n",
      "['F', 'M']\n",
      "\n",
      "0       1\n",
      "1       1\n",
      "2       0\n",
      "3       1\n",
      "4       1\n",
      "       ..\n",
      "1010    1\n",
      "1011    0\n",
      "1012    0\n",
      "1013    0\n",
      "1014    1\n",
      "Name: target, Length: 1015, dtype: int32\n"
     ]
    }
   ],
   "source": [
    "# Encode taget variable as numeric\n",
    "# Fitting The label encoder\n",
    "le = preprocessing.LabelEncoder()\n",
    "\n",
    "# Fitting the encoder to the target column\n",
    "le.fit(seal_df['adjsex'])\n",
    "\n",
    "# Viewing the targets\n",
    "print(); print(list(le.classes_))\n",
    "\n",
    "# Transform categories into integers\n",
    "seal_df['target'] = le.transform(seal_df['adjsex'])\n",
    "\n",
    "# Apply the fitted encoder to the target column\n",
    "print(); print(seal_df['target'])"
   ]
  },
  {
   "cell_type": "markdown",
   "metadata": {},
   "source": [
    "Females are now coded as 0 and males are 1"
   ]
  },
  {
   "cell_type": "code",
   "execution_count": 6,
   "metadata": {},
   "outputs": [],
   "source": [
    "# Separate into features and target\n",
    "X=seal_df.drop([\"adjsex\", \"target\"],axis=1)\n",
    "y=seal_df.target"
   ]
  },
  {
   "cell_type": "markdown",
   "metadata": {},
   "source": [
    "## Clean Data"
   ]
  },
  {
   "cell_type": "code",
   "execution_count": 7,
   "metadata": {},
   "outputs": [
    {
     "name": "stdout",
     "output_type": "stream",
     "text": [
      "mass            19\n",
      "Ave_Hct        161\n",
      "RBC            267\n",
      "WBC            145\n",
      "MCV            413\n",
      "Hb             759\n",
      "MCH           1004\n",
      "MCHC           801\n",
      "ABS_Baso       118\n",
      "ABS_Eos        118\n",
      "ABS_Bands      118\n",
      "ABS_Polys      118\n",
      "ABS_Lymphs     118\n",
      "ABS_Monos      118\n",
      "NRBC           574\n",
      "dtype: int64\n"
     ]
    },
    {
     "data": {
      "image/png": "[encoded data removed]",
      "text/plain": [
       "<Figure size 720x432 with 1 Axes>"
      ]
     },
     "metadata": {
      "needs_background": "light"
     },
     "output_type": "display_data"
    }
   ],
   "source": [
    "# Check for null values in features and plot\n",
    "null=X.isnull().sum()\n",
    "print(null)\n",
    "plt.figure(figsize=(10,6))\n",
    "plt.bar(range(len(null)), null)\n",
    "plt.title('Missing Values for Features')\n",
    "plt.xlabel('Features')\n",
    "plt.ylabel('Missing')\n",
    "plt.show()"
   ]
  },
  {
   "cell_type": "code",
   "execution_count": 8,
   "metadata": {},
   "outputs": [
    {
     "name": "stdout",
     "output_type": "stream",
     "text": [
      "Hb removed\n",
      "MCH removed\n",
      "MCHC removed\n",
      "NRBC removed\n",
      "(1015, 11)\n",
      "mass          0\n",
      "Ave_Hct       0\n",
      "RBC           0\n",
      "WBC           0\n",
      "MCV           0\n",
      "ABS_Baso      0\n",
      "ABS_Eos       0\n",
      "ABS_Bands     0\n",
      "ABS_Polys     0\n",
      "ABS_Lymphs    0\n",
      "ABS_Monos     0\n",
      "dtype: int64\n"
     ]
    }
   ],
   "source": [
    "# Removing columns with more than 50% NAN values and replacing NAN values of rest with median or mode\n",
    "for col in X.columns.values:\n",
    "    \n",
    "    if (pd.isna(X[col]).sum()) > 0: \n",
    "    \n",
    "        if pd.isna(X[col]).sum() > (50/100 * len(X)): \n",
    "            print(col,\"removed\") \n",
    "            X = X.drop([col], axis=1) \n",
    "        \n",
    "        elif (X[col].dtype == 'object'):\n",
    "            X[col] = X[col].fillna(X[col].mode()[0])        \n",
    "        \n",
    "        else:\n",
    "            X[col] = X[col].fillna(X[col].median())\n",
    "            \n",
    "                \n",
    "print(X.shape)\n",
    "print(X.isna().sum())"
   ]
  },
  {
   "cell_type": "markdown",
   "metadata": {},
   "source": [
    "## EDA"
   ]
  },
  {
   "cell_type": "code",
   "execution_count": 9,
   "metadata": {},
   "outputs": [
    {
     "data": {
      "image/png": "[encoded data removed]",
      "text/plain": [
       "<Figure size 1008x576 with 2 Axes>"
      ]
     },
     "metadata": {
      "needs_background": "light"
     },
     "output_type": "display_data"
    }
   ],
   "source": [
    "# Check for correlations between features\n",
    "corr =X.corr()\n",
    "fig, ax =plt.subplots(figsize =(14,8))\n",
    "ax  = sns.heatmap(corr,annot =True,fmt = \".2f\")\n",
    "ax.set_title('Correlation Between Features');"
   ]
  },
  {
   "cell_type": "code",
   "execution_count": 10,
   "metadata": {},
   "outputs": [
    {
     "name": "stdout",
     "output_type": "stream",
     "text": [
      "Correlation between features\n",
      "mass          0.439795\n",
      "WBC           0.066716\n",
      "ABS_Eos       0.049356\n",
      "ABS_Bands     0.029805\n",
      "ABS_Baso      0.015067\n",
      "MCV           0.013157\n",
      "ABS_Monos     0.012618\n",
      "ABS_Lymphs    0.011091\n",
      "ABS_Polys     0.007421\n",
      "Ave_Hct       0.006938\n",
      "RBC           0.005324\n",
      "dtype: float64\n"
     ]
    }
   ],
   "source": [
    "# Checking correlations between features and target\n",
    "corr_values = X.corrwith(y)\n",
    "print(\"Correlation between features\")\n",
    "print(abs(corr_values).sort_values(ascending=False))"
   ]
  },
  {
   "cell_type": "code",
   "execution_count": 11,
   "metadata": {},
   "outputs": [
    {
     "data": {
      "image/png": "[encoded data removed]",
      "text/plain": [
       "<Figure size 720x432 with 1 Axes>"
      ]
     },
     "metadata": {
      "needs_background": "light"
     },
     "output_type": "display_data"
    }
   ],
   "source": [
    "# Plot correlations between features and target\n",
    "X.corrwith(y).plot(kind='bar',\n",
    "                           grid=True, \n",
    "                           figsize=(10, 6),\n",
    "                           title=\"Correlation With Gender\");"
   ]
  },
  {
   "cell_type": "markdown",
   "metadata": {},
   "source": [
    "Mass is obviously correlated with gender, however the correlation value is less than 0.5, so I will keep it\n",
    "in the model for now. It might be interesting to see how poorly the model functions when this feature\n",
    "is dropped."
   ]
  },
  {
   "cell_type": "markdown",
   "metadata": {},
   "source": [
    "## Split Data Into Train and Test"
   ]
  },
  {
   "cell_type": "code",
   "execution_count": 12,
   "metadata": {},
   "outputs": [],
   "source": [
    "# Split into train and test sets\n",
    "X_train, X_test, y_train, y_test = train_test_split(X,\n",
    "                                y,test_size=0.2,\n",
    "                                random_state=68)"
   ]
  },
  {
   "cell_type": "markdown",
   "metadata": {},
   "source": [
    "## Checking Balance of Dataset Before Training Classifier\n"
   ]
  },
  {
   "cell_type": "code",
   "execution_count": 13,
   "metadata": {},
   "outputs": [
    {
     "data": {
      "text/plain": [
       "1    538\n",
       "0    477\n",
       "Name: target, dtype: int64"
      ]
     },
     "execution_count": 13,
     "metadata": {},
     "output_type": "execute_result"
    }
   ],
   "source": [
    "# Count the classifing values\n",
    "y.value_counts()"
   ]
  },
  {
   "cell_type": "markdown",
   "metadata": {},
   "source": [
    "## Standardizing Data"
   ]
  },
  {
   "cell_type": "code",
   "execution_count": 14,
   "metadata": {},
   "outputs": [],
   "source": [
    "# Standardize data to better fit regression\n",
    "sc = StandardScaler()\n",
    "X_train = sc.fit_transform(X_train)\n",
    "X_test = sc.transform (X_test)"
   ]
  },
  {
   "cell_type": "markdown",
   "metadata": {},
   "source": [
    "## Regression Model To Evaluate First"
   ]
  },
  {
   "cell_type": "code",
   "execution_count": 15,
   "metadata": {},
   "outputs": [
    {
     "name": "stdout",
     "output_type": "stream",
     "text": [
      "Accuracy of logistic regression:  0.6847290640394089\n",
      "Confusion matrix:\n",
      "  [[56 30]\n",
      " [34 83]]\n"
     ]
    }
   ],
   "source": [
    "# Instantiate logistic regression \n",
    "logreg = LogisticRegression()\n",
    "\n",
    "# Fit logreg to the train set\n",
    "logreg.fit(X_train,y_train)\n",
    "\n",
    "# Predict instances from the test set\n",
    "y_pred = logreg.predict(X_test)\n",
    "\n",
    "# Accuracy score of logreg model\n",
    "print(\"Accuracy of logistic regression: \", logreg.score(X_test,y_test))\n",
    "\n",
    "# Confusion matrix of the logreg model\n",
    "print('Confusion matrix:\\n ', confusion_matrix(y_test,y_pred))"
   ]
  },
  {
   "cell_type": "markdown",
   "metadata": {},
   "source": [
    "Looks like a useable model, although not great. Is there a better one?"
   ]
  },
  {
   "cell_type": "markdown",
   "metadata": {},
   "source": [
    "## Set up TPOT Classifier"
   ]
  },
  {
   "cell_type": "code",
   "execution_count": 16,
   "metadata": {},
   "outputs": [
    {
     "data": {
      "application/vnd.jupyter.widget-view+json": {
       "model_id": "",
       "version_major": 2,
       "version_minor": 0
      },
      "text/plain": [
       "HBox(children=(FloatProgress(value=0.0, description='Optimization Progress', max=220.0, style=ProgressStyle(de…"
      ]
     },
     "metadata": {},
     "output_type": "display_data"
    },
    {
     "name": "stdout",
     "output_type": "stream",
     "text": [
      "\n",
      "Generation 1 - Current best internal CV score: 0.7754040941271023\n",
      "\n",
      "Generation 2 - Current best internal CV score: 0.7757366283092268\n",
      "\n",
      "Generation 3 - Current best internal CV score: 0.7757366283092268\n",
      "\n",
      "Generation 4 - Current best internal CV score: 0.7764387994730513\n",
      "\n",
      "Generation 5 - Current best internal CV score: 0.7808330537667842\n",
      "\n",
      "Generation 6 - Current best internal CV score: 0.7808330537667842\n",
      "\n",
      "Generation 7 - Current best internal CV score: 0.7809621680544987\n",
      "\n",
      "Generation 8 - Current best internal CV score: 0.7809621680544987\n",
      "\n",
      "Generation 9 - Current best internal CV score: 0.7809621680544987\n",
      "\n",
      "Generation 10 - Current best internal CV score: 0.7809621680544987\n",
      "\n",
      "Best pipeline: KNeighborsClassifier(MinMaxScaler(input_matrix), n_neighbors=79, p=2, weights=distance)\n"
     ]
    },
    {
     "data": {
      "text/plain": [
       "TPOTClassifier(config_dict='TPOT light', disable_update_check=True,\n",
       "               generations=10, population_size=20, random_state=42,\n",
       "               scoring='roc_auc', verbosity=2)"
      ]
     },
     "execution_count": 16,
     "metadata": {},
     "output_type": "execute_result"
    }
   ],
   "source": [
    "# Instantiate TPOTClassifier\n",
    "tpot = TPOTClassifier(\n",
    "    generations=10,\n",
    "    population_size=20,\n",
    "    verbosity=2,\n",
    "    scoring='roc_auc',\n",
    "    random_state=42,\n",
    "    disable_update_check=True,\n",
    "    config_dict='TPOT light'\n",
    ")\n",
    "tpot.fit(X_train, y_train)"
   ]
  },
  {
   "cell_type": "code",
   "execution_count": 17,
   "metadata": {},
   "outputs": [
    {
     "name": "stdout",
     "output_type": "stream",
     "text": [
      "\n",
      "ROC_AUC score: 0.7564\n"
     ]
    }
   ],
   "source": [
    "# AUC score for tpot model\n",
    "tpot_auc_score = roc_auc_score(y_test, tpot.predict_proba(X_test)[:, 1])\n",
    "print(f'\\nROC_AUC score: {tpot_auc_score:.4f}')"
   ]
  },
  {
   "cell_type": "code",
   "execution_count": 18,
   "metadata": {},
   "outputs": [
    {
     "name": "stdout",
     "output_type": "stream",
     "text": [
      "\n",
      "Best pipeline steps:\n",
      "1. MinMaxScaler()\n",
      "2. KNeighborsClassifier(n_neighbors=79, weights='distance')\n"
     ]
    }
   ],
   "source": [
    "# Print best pipeline steps\n",
    "print('\\nBest pipeline steps:', end='\\n')\n",
    "for idx, (name, transform) in enumerate(tpot.fitted_pipeline_.steps, start=1):\n",
    "    # Print idx and transform\n",
    "    print(f'{idx}. {transform}')"
   ]
  },
  {
   "cell_type": "markdown",
   "metadata": {},
   "source": [
    "## Check KNN Parameters"
   ]
  },
  {
   "cell_type": "code",
   "execution_count": 19,
   "metadata": {},
   "outputs": [
    {
     "name": "stdout",
     "output_type": "stream",
     "text": [
      "maximum accuracy: 71.43%\n",
      "ROC_AUC score:  0.740757304710793\n"
     ]
    },
    {
     "data": {
      "image/png": "[encoded data removed]",
      "text/plain": [
       "<Figure size 432x288 with 1 Axes>"
      ]
     },
     "metadata": {
      "needs_background": "light"
     },
     "output_type": "display_data"
    }
   ],
   "source": [
    "# Checking K-neighbors for max value\n",
    "train_scores = []\n",
    "test_scores = []\n",
    "neighbors = range(1,90)\n",
    "\n",
    "knn = KNeighborsClassifier()\n",
    "\n",
    "for i in neighbors:\n",
    "    knn.set_params(n_neighbors = i)\n",
    "    knn.fit(X_train, y_train)\n",
    "    train_scores.append(knn.score(X_train, y_train))        \n",
    "    test_scores.append(knn.score(X_test, y_test))\n",
    "\n",
    "plt.plot(neighbors, train_scores, label = \"Train Scores\")\n",
    "plt.plot(neighbors, test_scores, label=\"Test scores\")\n",
    "plt.xlabel(\"No. of Neighbors\")\n",
    "plt.ylabel(\"Model Scores\")\n",
    "plt.title(\"Comparing Train and Test Scores\")\n",
    "plt.legend()\n",
    "print(f\"maximum accuracy: {max(test_scores)*100:.2f}%\")\n",
    "\n",
    "knn_roc = roc_auc_score(y_test, knn.predict_proba(X_test)[:, 1])\n",
    "print('ROC_AUC score: ', knn_roc)"
   ]
  },
  {
   "cell_type": "markdown",
   "metadata": {},
   "source": [
    "## Summary For Model With Mass:\n",
    " The K-nearest neighbors classifier was the best model to predict gender with this data set. As can be seen by the graph above, the train and test curves start to diverge around the point where n_neighbors is about 80. "
   ]
  },
  {
   "cell_type": "markdown",
   "metadata": {},
   "source": [
    "# Without Mass\n",
    "Let's drop the mass column as a feature and see how the model changes!"
   ]
  },
  {
   "cell_type": "code",
   "execution_count": 20,
   "metadata": {},
   "outputs": [],
   "source": [
    "X_new=X.drop([\"mass\"],axis=1)"
   ]
  },
  {
   "cell_type": "code",
   "execution_count": 21,
   "metadata": {},
   "outputs": [],
   "source": [
    "# Split into train and test sets\n",
    "X_train, X_test, y_train, y_test = train_test_split(X_new,\n",
    "                                y,test_size=0.2,\n",
    "                                random_state=68)"
   ]
  },
  {
   "cell_type": "code",
   "execution_count": 22,
   "metadata": {},
   "outputs": [],
   "source": [
    "from sklearn.preprocessing import StandardScaler\n",
    "sc = StandardScaler()\n",
    "X_train = sc.fit_transform(X_train)\n",
    "X_test = sc.transform (X_test)"
   ]
  },
  {
   "cell_type": "code",
   "execution_count": 23,
   "metadata": {},
   "outputs": [
    {
     "name": "stdout",
     "output_type": "stream",
     "text": [
      "Accuracy of logistic regression classifier:  0.5172413793103449\n",
      "r squared:  0.4719211822660099\n",
      "Confusion matrix:\n",
      "  [[27 59]\n",
      " [39 78]]\n"
     ]
    }
   ],
   "source": [
    "# Instantiate logistic regression\n",
    "logreg = LogisticRegression()\n",
    "\n",
    "# Fit logreg to the train set\n",
    "logreg.fit(X_train,y_train)\n",
    "\n",
    "# Predict instances from the test set\n",
    "y_pred = logreg.predict(X_test)\n",
    "\n",
    "# Accuracy score of logreg model\n",
    "print(\"Accuracy of logistic regression classifier: \", logreg.score(X_test,y_test))\n",
    "\n",
    "# Print model score\n",
    "r_sq = logreg.score(X_new, y)\n",
    "print('r squared: ', r_sq)\n",
    "\n",
    "# Confusion matrix of the logreg model\n",
    "print('Confusion matrix:\\n ', confusion_matrix(y_test,y_pred))"
   ]
  },
  {
   "cell_type": "markdown",
   "metadata": {},
   "source": [
    "## TPOT Classifier For New Model"
   ]
  },
  {
   "cell_type": "code",
   "execution_count": 24,
   "metadata": {},
   "outputs": [
    {
     "data": {
      "application/vnd.jupyter.widget-view+json": {
       "model_id": "",
       "version_major": 2,
       "version_minor": 0
      },
      "text/plain": [
       "HBox(children=(FloatProgress(value=0.0, description='Optimization Progress', max=220.0, style=ProgressStyle(de…"
      ]
     },
     "metadata": {},
     "output_type": "display_data"
    },
    {
     "name": "stdout",
     "output_type": "stream",
     "text": [
      "\n",
      "Generation 1 - Current best internal CV score: 0.5416738467538914\n",
      "\n",
      "Generation 2 - Current best internal CV score: 0.5416738467538914\n",
      "\n",
      "Generation 3 - Current best internal CV score: 0.5416738467538914\n",
      "\n",
      "Generation 4 - Current best internal CV score: 0.5416738467538914\n",
      "\n",
      "Generation 5 - Current best internal CV score: 0.5416738467538914\n",
      "\n",
      "Generation 6 - Current best internal CV score: 0.5438339142862597\n",
      "\n",
      "Generation 7 - Current best internal CV score: 0.5447989802866944\n",
      "\n",
      "Generation 8 - Current best internal CV score: 0.5494596160437559\n",
      "\n",
      "Generation 9 - Current best internal CV score: 0.5494596160437559\n",
      "\n",
      "Generation 10 - Current best internal CV score: 0.5494596160437559\n",
      "\n",
      "Best pipeline: KNeighborsClassifier(Normalizer(FeatureAgglomeration(input_matrix, affinity=cosine, linkage=average), norm=l1), n_neighbors=73, p=2, weights=distance)\n"
     ]
    },
    {
     "data": {
      "text/plain": [
       "TPOTClassifier(config_dict='TPOT light', disable_update_check=True,\n",
       "               generations=10, population_size=20, random_state=42,\n",
       "               scoring='roc_auc', verbosity=2)"
      ]
     },
     "execution_count": 24,
     "metadata": {},
     "output_type": "execute_result"
    }
   ],
   "source": [
    "# Instantiate TPOTClassifier\n",
    "tpot = TPOTClassifier(\n",
    "    generations=10,\n",
    "    population_size=20,\n",
    "    verbosity=2,\n",
    "    scoring='roc_auc',\n",
    "    random_state=42,\n",
    "    disable_update_check=True,\n",
    "    config_dict='TPOT light'\n",
    ")\n",
    "tpot.fit(X_train, y_train)"
   ]
  },
  {
   "cell_type": "code",
   "execution_count": 25,
   "metadata": {},
   "outputs": [
    {
     "name": "stdout",
     "output_type": "stream",
     "text": [
      "\n",
      "ROC_AUC score: 0.4537\n"
     ]
    }
   ],
   "source": [
    "# AUC score for tpot model\n",
    "tpot_auc_score = roc_auc_score(y_test, tpot.predict_proba(X_test)[:, 1])\n",
    "print(f'\\nROC_AUC score: {tpot_auc_score:.4f}')"
   ]
  },
  {
   "cell_type": "markdown",
   "metadata": {},
   "source": [
    "## Overall Summary:\n",
    "The model was clearly hurt by removing mass as a feature, as predicted. Since monk seals exhibit sexual dimorphism- the males are slightly larger than females, except for Hawaiian monk seals, where females are larger- a predictive model that includes mass would intuitively be more accurate. "
   ]
  },
  {
   "cell_type": "code",
   "execution_count": null,
   "metadata": {},
   "outputs": [],
   "source": []
  }
 ],
 "metadata": {
  "kernelspec": {
   "display_name": "Python 3",
   "language": "python",
   "name": "python3"
  },
  "language_info": {
   "codemirror_mode": {
    "name": "ipython",
    "version": 3
   },
   "file_extension": ".py",
   "mimetype": "text/x-python",
   "name": "python",
   "nbconvert_exporter": "python",
   "pygments_lexer": "ipython3",
   "version": "3.8.3"
  }
 },
 "nbformat": 4,
 "nbformat_minor": 4
}
